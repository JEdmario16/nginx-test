{
 "cells": [
  {
   "cell_type": "markdown",
   "id": "2c9c6bb9-8192-4c44-bb5c-e88f2bdda409",
   "metadata": {},
   "source": [
    "# Notebook de testes\n",
    "Criei este notebook para mostrar algumas das coisas implementadas atraves de código\n"
   ]
  },
  {
   "cell_type": "code",
   "execution_count": 28,
   "id": "4f9f6738-7aa4-43e5-8370-3bc7987395fb",
   "metadata": {
    "tags": []
   },
   "outputs": [
    {
     "name": "stdout",
     "output_type": "stream",
     "text": [
      "Note: you may need to restart the kernel to use updated packages.\n"
     ]
    }
   ],
   "source": [
    "%pip install pg8000 --quiet\n",
    "\n",
    "from sqlalchemy import create_engine, Column, ForeignKey, Integer, String, select\n",
    "from sqlalchemy.orm import declarative_base, sessionmaker\n",
    "\n",
    "import os\n",
    "\n",
    "Base = declarative_base()\n",
    "\n",
    "db_user = os.environ.get(\"POSTGRES_USER\")\n",
    "db_password = os.environ.get(\"POSTGRES_PASSWORD\")\n",
    "db_host = 'db' # nome do serviço definido no compose!\n",
    "db_port = 5432 # porta padrão, não alteramos nada\n",
    "database = 'postgres' # nome do banco de dados. Como não criamos nenhum, usarei este que vem por padrão. Você pode criar outros usando o pgadmin\n",
    "engine = create_engine(f\"postgresql+pg8000://{db_user}:{db_password}@{db_host}:{db_port}/{database}\")\n",
    "\n",
    "# Crio uma tabela de usuário e subo no db\n",
    "class User(Base):\n",
    "    __tablename__ = \"user\"\n",
    "\n",
    "    id = Column(Integer, primary_key=True)\n",
    "    name = Column(String)\n",
    "    fullname = Column(String)\n",
    "    nickname = Column(String)\n",
    "    \n",
    "    def __repr__(self):\n",
    "        return f\"<User name: {self.name} >\"\n",
    "    \n",
    "Base.metadata.create_all(bind=engine)\n",
    "\n",
    "# Nota: Após este processo você pode logar no pgadmin, adicionar uma conexão para o data base e ver se está tabela esta lá!\n",
    "\n",
    "# Agora, vamos inserir dados no banco:\n",
    "mario = User(\n",
    "    name =\"Mario\",\n",
    "    fullname = \"Mario Mario\", # sim, o sobrenome do mario é mario\n",
    "    nickname = \"Ilov3Mushrooms\")\n",
    "\n",
    "Session = sessionmaker(engine)\n",
    "\n",
    "\n",
    "with Session.begin() as session:\n",
    "    session.add(mario)\n",
    "    pass\n",
    "\n",
    "# Get the user\n",
    "with Session() as session:\n",
    "    # query for ``User`` objects\n",
    "    statement = select(User).filter_by(name=\"Mario\")\n",
    "    user_obj = session.scalars(statement).all()\n",
    "\n",
    "    \n",
    "print(user_obj)\n"
   ]
  },
  {
   "cell_type": "code",
   "execution_count": null,
   "id": "40a05007-83c4-42b3-9398-ce580ed32b8d",
   "metadata": {
    "tags": []
   },
   "outputs": [
    {
     "data": {
      "text/plain": [
       "{'_sa_instance_state': <sqlalchemy.orm.state.InstanceState at 0x7ff0f028abc0>,\n",
       " 'fullname': 'Mario Mario',\n",
       " 'id': 1,\n",
       " 'nickname': 'Ilov3Mushrooms',\n",
       " 'name': 'Mario'}"
      ]
     },
     "execution_count": 33,
     "metadata": {},
     "output_type": "execute_result"
    }
   ],
   "source": [
    "%pip install redis --quiet\n",
    "import redis\n",
    "\n",
    "r = redis.Redis(host='redis', port='6379')\n",
    "\n",
    "\n",
    "# Você pode utilizar esta célula para checar os valores que estão salvos no redis atualmente\n"
   ]
  },
  {
   "cell_type": "code",
   "execution_count": null,
   "id": "535ff1fc",
   "metadata": {},
   "outputs": [],
   "source": []
  }
 ],
 "metadata": {
  "kernelspec": {
   "display_name": "Python 3 (ipykernel)",
   "language": "python",
   "name": "python3"
  },
  "language_info": {
   "codemirror_mode": {
    "name": "ipython",
    "version": 3
   },
   "file_extension": ".py",
   "mimetype": "text/x-python",
   "name": "python",
   "nbconvert_exporter": "python",
   "pygments_lexer": "ipython3",
   "version": "3.10.9"
  }
 },
 "nbformat": 4,
 "nbformat_minor": 5
}
